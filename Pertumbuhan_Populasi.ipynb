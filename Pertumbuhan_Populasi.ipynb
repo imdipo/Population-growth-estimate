{
  "nbformat": 4,
  "nbformat_minor": 0,
  "metadata": {
    "colab": {
      "provenance": []
    },
    "kernelspec": {
      "name": "python3",
      "display_name": "Python 3"
    },
    "language_info": {
      "name": "python"
    }
  },
  "cells": [
    {
      "cell_type": "code",
      "execution_count": 2,
      "metadata": {
        "id": "XwYgt09PG_KH"
      },
      "outputs": [],
      "source": [
        "def pertumbuhan_populasi_rekursif(tahun, populasi_awal, tingkat_kelahiran, tingkat_kematian, tingkat_migrasi):\n",
        "    # Basis kasus: jika tahun adalah 0, populasi awal adalah populasi akhir\n",
        "    if tahun == 0:\n",
        "        return populasi_awal\n",
        "    else:\n",
        "        # Rumus pertumbuhan populasi rekursif\n",
        "        populasi_awal = pertumbuhan_populasi_rekursif(tahun - 1, populasi_awal, tingkat_kelahiran, tingkat_kematian, tingkat_migrasi)\n",
        "        populasi_awal = int(populasi_awal + (populasi_awal * tingkat_kelahiran) - (populasi_awal * tingkat_kematian) + tingkat_migrasi)\n",
        "        return populasi_awal"
      ]
    },
    {
      "cell_type": "code",
      "source": [
        "# Input pengguna\n",
        "tahun = int(input(\"Masukkan jumlah tahun: \"))\n",
        "populasi_awal = int(input(\"Masukkan populasi awal: \"))\n",
        "tingkat_kelahiran = float(input(\"Masukkan tingkat kelahiran (misal 0.1 untuk 10%): \"))\n",
        "tingkat_kematian = float(input(\"Masukkan tingkat kematian (misal 0.05 untuk 5%): \"))\n",
        "tingkat_migrasi = int(input(\"Masukkan tingkat migrasi: \"))"
      ],
      "metadata": {
        "colab": {
          "base_uri": "https://localhost:8080/"
        },
        "id": "MeOncPSTHbBW",
        "outputId": "603f2996-539e-409a-921b-a694ff2fd91c"
      },
      "execution_count": 5,
      "outputs": [
        {
          "name": "stdout",
          "output_type": "stream",
          "text": [
            "Masukkan jumlah tahun: 10\n",
            "Masukkan populasi awal: 1000\n",
            "Masukkan tingkat kelahiran (misal 0.1 untuk 10%): 0.5\n",
            "Masukkan tingkat kematian (misal 0.05 untuk 5%): 0.10\n",
            "Masukkan tingkat migrasi: 100\n"
          ]
        }
      ]
    },
    {
      "cell_type": "code",
      "source": [
        "# Menghitung populasi akhir menggunakan fungsi rekursif\n",
        "populasi_akhir_rekursif = pertumbuhan_populasi_rekursif(tahun, populasi_awal, tingkat_kelahiran, tingkat_kematian, tingkat_migrasi)"
      ],
      "metadata": {
        "id": "aOaKhMJnHdGK"
      },
      "execution_count": 6,
      "outputs": []
    },
    {
      "cell_type": "code",
      "source": [
        "# Menampilkan hasil sebagai bilangan bulat tanpa koma\n",
        "print(f\"Populasi setelah {tahun} tahun (versi rekursif): {populasi_akhir_rekursif}\")"
      ],
      "metadata": {
        "colab": {
          "base_uri": "https://localhost:8080/"
        },
        "id": "RuZEnYrsHwrG",
        "outputId": "a13325f4-a749-43e0-b74a-36017837695f"
      },
      "execution_count": 7,
      "outputs": [
        {
          "output_type": "stream",
          "name": "stdout",
          "text": [
            "Populasi setelah 10 tahun (versi rekursif): 35898\n"
          ]
        }
      ]
    }
  ]
}